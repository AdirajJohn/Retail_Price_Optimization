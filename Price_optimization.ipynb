{
 "cells": [
  {
   "cell_type": "markdown",
   "metadata": {},
   "source": [
    "### Retail Price Optimization"
   ]
  },
  {
   "cell_type": "markdown",
   "metadata": {},
   "source": [
    "#### Import Necessary Library"
   ]
  },
  {
   "cell_type": "code",
   "execution_count": 1,
   "metadata": {},
   "outputs": [],
   "source": [
    "import pandas as pd\n",
    "import numpy as np\n",
    "import matplotlib.pyplot as plt\n",
    "import seaborn as sns\n",
    "from sklearn.preprocessing import LabelEncoder,OneHotEncoder,StandardScaler,MinMaxScaler\n",
    "from sklearn.model_selection import train_test_split"
   ]
  },
  {
   "cell_type": "markdown",
   "metadata": {},
   "source": [
    "#### Import the dataset"
   ]
  },
  {
   "cell_type": "code",
   "execution_count": 3,
   "metadata": {},
   "outputs": [
    {
     "name": "stdout",
     "output_type": "stream",
     "text": [
      "  product_id product_category_name  month_year  qty  total_price  \\\n",
      "0       bed1        bed_bath_table  01-05-2017    1        45.95   \n",
      "1       bed1        bed_bath_table  01-06-2017    3       137.85   \n",
      "2       bed1        bed_bath_table  01-07-2017    6       275.70   \n",
      "\n",
      "   freight_price  unit_price  product_name_lenght  product_description_lenght  \\\n",
      "0      15.100000       45.95                   39                         161   \n",
      "1      12.933333       45.95                   39                         161   \n",
      "2      14.840000       45.95                   39                         161   \n",
      "\n",
      "   product_photos_qty  ...  comp_1  ps1        fp1  comp_2  ps2        fp2  \\\n",
      "0                   2  ...    89.9  3.9  15.011897   215.0  4.4   8.760000   \n",
      "1                   2  ...    89.9  3.9  14.769216   209.0  4.4  21.322000   \n",
      "2                   2  ...    89.9  3.9  13.993833   205.0  4.4  22.195932   \n",
      "\n",
      "   comp_3  ps3        fp3  lag_price  \n",
      "0   45.95  4.0  15.100000      45.90  \n",
      "1   45.95  4.0  12.933333      45.95  \n",
      "2   45.95  4.0  14.840000      45.95  \n",
      "\n",
      "[3 rows x 30 columns]\n"
     ]
    }
   ],
   "source": [
    "df=pd.read_csv(\"D:/repository/Retail_Price_Optimization/retail_price.csv\")\n",
    "print(df.head(3))"
   ]
  },
  {
   "cell_type": "markdown",
   "metadata": {},
   "source": [
    "#### EDA"
   ]
  },
  {
   "cell_type": "code",
   "execution_count": 4,
   "metadata": {},
   "outputs": [
    {
     "data": {
      "text/plain": [
       "product_id                    0\n",
       "product_category_name         0\n",
       "month_year                    0\n",
       "qty                           0\n",
       "total_price                   0\n",
       "freight_price                 0\n",
       "unit_price                    0\n",
       "product_name_lenght           0\n",
       "product_description_lenght    0\n",
       "product_photos_qty            0\n",
       "product_weight_g              0\n",
       "product_score                 0\n",
       "customers                     0\n",
       "weekday                       0\n",
       "weekend                       0\n",
       "holiday                       0\n",
       "month                         0\n",
       "year                          0\n",
       "s                             0\n",
       "volume                        0\n",
       "comp_1                        0\n",
       "ps1                           0\n",
       "fp1                           0\n",
       "comp_2                        0\n",
       "ps2                           0\n",
       "fp2                           0\n",
       "comp_3                        0\n",
       "ps3                           0\n",
       "fp3                           0\n",
       "lag_price                     0\n",
       "dtype: int64"
      ]
     },
     "execution_count": 4,
     "metadata": {},
     "output_type": "execute_result"
    }
   ],
   "source": [
    "df.isnull().sum()\n",
    "#CONLUSION: There is no missing value in the dataset"
   ]
  },
  {
   "cell_type": "code",
   "execution_count": null,
   "metadata": {},
   "outputs": [],
   "source": []
  }
 ],
 "metadata": {
  "kernelspec": {
   "display_name": "Python 3",
   "language": "python",
   "name": "python3"
  },
  "language_info": {
   "codemirror_mode": {
    "name": "ipython",
    "version": 3
   },
   "file_extension": ".py",
   "mimetype": "text/x-python",
   "name": "python",
   "nbconvert_exporter": "python",
   "pygments_lexer": "ipython3",
   "version": "3.10.10"
  },
  "orig_nbformat": 4
 },
 "nbformat": 4,
 "nbformat_minor": 2
}
